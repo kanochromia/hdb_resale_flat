{
 "cells": [
  {
   "cell_type": "markdown",
   "id": "783cf26e",
   "metadata": {},
   "source": [
    "# Import Libraries"
   ]
  },
  {
   "cell_type": "code",
   "execution_count": 1,
   "id": "d6dd54a0",
   "metadata": {},
   "outputs": [],
   "source": [
    "import pandas as pd\n",
    "import numpy as np\n",
    "import seaborn as sns\n",
    "\n",
    "from sklearn.linear_model import LinearRegression, LogisticRegression, LogisticRegressionCV, Lasso, LassoCV, Ridge, RidgeCV\n",
    "from sklearn.model_selection import train_test_split, cross_val_score\n",
    "from sklearn.tree import DecisionTreeRegressor\n",
    "from sklearn.ensemble import RandomForestRegressor\n",
    "from sklearn.metrics import mean_absolute_error"
   ]
  },
  {
   "cell_type": "code",
   "execution_count": 2,
   "id": "f2ad0084",
   "metadata": {},
   "outputs": [
    {
     "data": {
      "text/plain": [
       "(850060, 77)"
      ]
     },
     "execution_count": 2,
     "metadata": {},
     "output_type": "execute_result"
    }
   ],
   "source": [
    "df_dum = pd.read_pickle('df_dum.pkl')\n",
    "df_dum.shape"
   ]
  },
  {
   "cell_type": "code",
   "execution_count": 3,
   "id": "47ad7f4f",
   "metadata": {},
   "outputs": [],
   "source": [
    "# summary statistics function\n",
    "\n",
    "def eda_clean(df):\n",
    "    print('Dataset Statistics:\\n')\n",
    "    print(f'Shape of dataframe: {df.shape}')\n",
    "    print('--------------------------------------')\n",
    "    print(f'Null values in dataframe: {df.isna().sum().sum()}')\n",
    "    print('--------------------------------------')\n",
    "    print(f'% of Null values in dataframe: {round(((df.isna().sum().sum())/(df.shape[0])) * 100, 2)}%')\n",
    "    print('--------------------------------------')\n",
    "    print(f\"Total duplicate rows: {df[df.duplicated()].shape[0]}\")\n",
    "    print('--------------------------------------')\n",
    "    print(f\"% duplicate rows: {round(df[df.duplicated()].shape[0] / df.shape[0] * 100, 2)}%\")\n",
    "    print('\\nVariable Types')\n",
    "    print(f\"Columns Count: \\n{df.dtypes.value_counts()}\")"
   ]
  },
  {
   "cell_type": "code",
   "execution_count": 4,
   "id": "21b169cd",
   "metadata": {
    "scrolled": true
   },
   "outputs": [
    {
     "name": "stdout",
     "output_type": "stream",
     "text": [
      "Dataset Statistics:\n",
      "\n",
      "Shape of dataframe: (850060, 77)\n",
      "--------------------------------------\n",
      "Null values in dataframe: 0\n",
      "--------------------------------------\n",
      "% of Null values in dataframe: 0.0%\n",
      "--------------------------------------\n",
      "Total duplicate rows: 0\n",
      "--------------------------------------\n",
      "% duplicate rows: 0.0%\n",
      "\n",
      "Variable Types\n",
      "Columns Count: \n",
      "int64      59\n",
      "float64    15\n",
      "object      3\n",
      "dtype: int64\n"
     ]
    }
   ],
   "source": [
    "eda_clean(df_dum)"
   ]
  },
  {
   "cell_type": "code",
   "execution_count": 5,
   "id": "7190f1f2",
   "metadata": {},
   "outputs": [],
   "source": [
    "# Dummifying More\n",
    "df_dum = pd.get_dummies(df_dum, columns=['bldg_contract_town'], drop_first=True)"
   ]
  },
  {
   "cell_type": "code",
   "execution_count": 6,
   "id": "e5c2bb13",
   "metadata": {},
   "outputs": [
    {
     "data": {
      "text/plain": [
       "Index(['date', 'floor_area_sqm', 'lease_commence_date', 'resale_price',\n",
       "       'month', 'year', 'address', 'remaining_lease_years', 'max_floor_lvl',\n",
       "       'commercial',\n",
       "       ...\n",
       "       'bldg_contract_town_PG', 'bldg_contract_town_PRC',\n",
       "       'bldg_contract_town_QT', 'bldg_contract_town_SB',\n",
       "       'bldg_contract_town_SGN', 'bldg_contract_town_SK',\n",
       "       'bldg_contract_town_TAP', 'bldg_contract_town_TP',\n",
       "       'bldg_contract_town_WL', 'bldg_contract_town_YS'],\n",
       "      dtype='object', length=101)"
      ]
     },
     "execution_count": 6,
     "metadata": {},
     "output_type": "execute_result"
    }
   ],
   "source": [
    "df_dum.columns"
   ]
  },
  {
   "cell_type": "code",
   "execution_count": 7,
   "id": "5738479e",
   "metadata": {},
   "outputs": [],
   "source": [
    "features = ['floor_area_sqm', 'month',\n",
    "       'year', 'remaining_lease_years', 'max_floor_lvl',\n",
    "       'commercial', 'market_hawker', 'multistorey_carpark',\n",
    "       'precinct_pavilion', 'own_units', 'flat_type_2 room',\n",
    "       'flat_type_3 room', 'flat_type_4 room', 'flat_type_5 room',\n",
    "       'flat_type_executive', 'flat_type_multi-generation',\n",
    "       'flat_model_adjoined flat', 'flat_model_apartment', 'flat_model_dbss',\n",
    "       'flat_model_improved', 'flat_model_improved-maisonette',\n",
    "       'flat_model_maisonette', 'flat_model_model a',\n",
    "       'flat_model_model a-maisonette', 'flat_model_model a2',\n",
    "       'flat_model_multi generation', 'flat_model_new generation',\n",
    "       'flat_model_premium apartment', 'flat_model_premium apartment loft',\n",
    "       'flat_model_premium maisonette', 'flat_model_simplified',\n",
    "       'flat_model_standard', 'flat_model_terrace', 'flat_model_type s1',\n",
    "       'flat_model_type s2', 'storey_range_01 TO 05', 'storey_range_04 TO 06',\n",
    "       'storey_range_06 TO 10', 'storey_range_07 TO 09',\n",
    "       'storey_range_10 TO 12', 'storey_range_11 TO 15',\n",
    "       'storey_range_13 TO 15', 'storey_range_16 TO 18',\n",
    "       'storey_range_16 TO 20', 'storey_range_19 TO 21',\n",
    "       'storey_range_21 TO 25', 'storey_range_22 TO 24',\n",
    "       'storey_range_25 TO 27', 'storey_range_26 TO 30',\n",
    "       'storey_range_28 TO 30', 'storey_range_31 TO 33',\n",
    "       'storey_range_31 TO 35', 'storey_range_34 TO 36',\n",
    "       'storey_range_36 TO 40', 'storey_range_37 TO 39',\n",
    "       'storey_range_40 TO 42', 'storey_range_43 TO 45',\n",
    "       'storey_range_46 TO 48', 'storey_range_49 TO 51', 'cbd_dist',\n",
    "        'min_dist_attraction', 'min_dist_market', 'min_dist_hawker',\n",
    "       'min_dist_preschool', 'min_dist_school', 'min_dist_mrt',\n",
    "        'school_1km', 'preschool_1km', 'mrt_1km',\n",
    "       'bldg_contract_town_BB', 'bldg_contract_town_BD',\n",
    "       'bldg_contract_town_BH', 'bldg_contract_town_BM',\n",
    "       'bldg_contract_town_BP', 'bldg_contract_town_BT',\n",
    "       'bldg_contract_town_CCK', 'bldg_contract_town_CL',\n",
    "       'bldg_contract_town_CT', 'bldg_contract_town_GL',\n",
    "       'bldg_contract_town_HG', 'bldg_contract_town_JE',\n",
    "       'bldg_contract_town_JW', 'bldg_contract_town_KWN',\n",
    "       'bldg_contract_town_MP', 'bldg_contract_town_PG',\n",
    "       'bldg_contract_town_PRC', 'bldg_contract_town_QT',\n",
    "       'bldg_contract_town_SB', 'bldg_contract_town_SGN',\n",
    "       'bldg_contract_town_SK', 'bldg_contract_town_TAP',\n",
    "       'bldg_contract_town_TP', 'bldg_contract_town_WL',\n",
    "       'bldg_contract_town_YS']"
   ]
  },
  {
   "cell_type": "code",
   "execution_count": 8,
   "id": "bad7cfac",
   "metadata": {},
   "outputs": [],
   "source": [
    "# dropped preschool, mrt and school (5km) as all the HDB houses are located within that distance.\n",
    "df_dum.drop(columns=['date', 'address', 'preschool_5km', 'mrt_5km', 'school_5km', 'lease_commence_date'], inplace=True)"
   ]
  },
  {
   "cell_type": "code",
   "execution_count": 9,
   "id": "c6ab5f45",
   "metadata": {},
   "outputs": [],
   "source": [
    "X=df_dum[features]\n",
    "y=df_dum['resale_price']"
   ]
  },
  {
   "cell_type": "code",
   "execution_count": 10,
   "id": "d81437ef",
   "metadata": {},
   "outputs": [],
   "source": [
    "X_train, X_test, y_train, y_test = train_test_split(X,y,random_state=42, test_size=0.25)"
   ]
  },
  {
   "cell_type": "code",
   "execution_count": 11,
   "id": "5772de2b",
   "metadata": {},
   "outputs": [],
   "source": [
    "X_train = np.nan_to_num(X_train)\n",
    "X_test = np.nan_to_num(X_test)\n",
    "y_train = np.nan_to_num(y_train)\n",
    "y_test = np.nan_to_num(y_test)\n",
    "# reference: https://stackoverflow.com/questions/31323499/sklearn-error-valueerror-input-contains-nan-infinity-or-a-value-too-large-for"
   ]
  },
  {
   "cell_type": "code",
   "execution_count": 12,
   "id": "be9e1505",
   "metadata": {},
   "outputs": [],
   "source": [
    "import seaborn as sns\n",
    "import matplotlib.pyplot as plt\n",
    "%matplotlib inline"
   ]
  },
  {
   "cell_type": "code",
   "execution_count": 13,
   "id": "dcbd47e0",
   "metadata": {},
   "outputs": [
    {
     "data": {
      "text/plain": [
       "<AxesSubplot:>"
      ]
     },
     "execution_count": 13,
     "metadata": {},
     "output_type": "execute_result"
    },
    {
     "data": {
      "image/png": "[encoded data removed]",
      "text/plain": [
       "<Figure size 1152x720 with 2 Axes>"
      ]
     },
     "metadata": {
      "needs_background": "light"
     },
     "output_type": "display_data"
    }
   ],
   "source": [
    "plt.figure(figsize=(16,10))\n",
    "sns.heatmap(df_dum.corr(), cmap='BrBG')"
   ]
  },
  {
   "cell_type": "markdown",
   "id": "fbce329a",
   "metadata": {},
   "source": [
    "## Linear Regression (Unscaled) - Baseline"
   ]
  },
  {
   "cell_type": "code",
   "execution_count": 14,
   "id": "2dbb2d38",
   "metadata": {},
   "outputs": [],
   "source": [
    "# instantiate\n",
    "line=LinearRegression()"
   ]
  },
  {
   "cell_type": "code",
   "execution_count": 15,
   "id": "b56361fd",
   "metadata": {},
   "outputs": [
    {
     "data": {
      "text/plain": [
       "LinearRegression()"
      ]
     },
     "execution_count": 15,
     "metadata": {},
     "output_type": "execute_result"
    }
   ],
   "source": [
    "line.fit(X_train, y_train)"
   ]
  },
  {
   "cell_type": "code",
   "execution_count": 16,
   "id": "b1c8d335",
   "metadata": {},
   "outputs": [
    {
     "name": "stdout",
     "output_type": "stream",
     "text": [
      "R^2 score on train data set = 0.8327905912249829\n",
      "cross-val-score R^2 score on trained model = 0.8327160507439146\n",
      "R^2 score on test data set = 0.8326365101702727\n"
     ]
    }
   ],
   "source": [
    "# scores\n",
    "print(f'R^2 score on train data set = {line.score(X_train, y_train)}')\n",
    "print(f'cross-val-score R^2 score on trained model = {cross_val_score(line, X_train, y_train, cv=5).mean()}')\n",
    "print(f'R^2 score on test data set = {line.score(X_test, y_test)}')"
   ]
  },
  {
   "cell_type": "markdown",
   "id": "6c25cf4c",
   "metadata": {},
   "source": [
    "The scores are pretty good enough for our training data set. Our test data set has also fit to the model quite decently. "
   ]
  },
  {
   "cell_type": "markdown",
   "id": "0198f1e7",
   "metadata": {},
   "source": [
    "# Scaling"
   ]
  },
  {
   "cell_type": "code",
   "execution_count": 17,
   "id": "d3656eae",
   "metadata": {},
   "outputs": [],
   "source": [
    "# our features have different magnitudes.\n",
    "# we do not want outliers affecting the model too sharply.\n",
    "from sklearn.preprocessing import StandardScaler"
   ]
  },
  {
   "cell_type": "code",
   "execution_count": 18,
   "id": "dfff66e3",
   "metadata": {},
   "outputs": [],
   "source": [
    "sc = StandardScaler()\n",
    "Z_train = sc.fit_transform(X_train)\n",
    "Z_test = sc.transform(X_test)"
   ]
  },
  {
   "cell_type": "markdown",
   "id": "ac8556e4",
   "metadata": {},
   "source": [
    "## Linear Regression"
   ]
  },
  {
   "cell_type": "code",
   "execution_count": 19,
   "id": "37d8bc96",
   "metadata": {},
   "outputs": [
    {
     "data": {
      "text/plain": [
       "LinearRegression()"
      ]
     },
     "execution_count": 19,
     "metadata": {},
     "output_type": "execute_result"
    }
   ],
   "source": [
    "line.fit(Z_train, y_train)"
   ]
  },
  {
   "cell_type": "code",
   "execution_count": 20,
   "id": "0291fd63",
   "metadata": {},
   "outputs": [
    {
     "name": "stdout",
     "output_type": "stream",
     "text": [
      "R^2 score on train data set = 0.8327904952398818\n",
      "cross-val-score R^2 score on trained model = 0.8327159581980401\n",
      "R^2 score on test data set = 0.8326380451641655\n"
     ]
    }
   ],
   "source": [
    "# scores\n",
    "print(f'R^2 score on train data set = {line.score(Z_train, y_train)}')\n",
    "print(f'cross-val-score R^2 score on trained model = {cross_val_score(line, Z_train, y_train, cv=5).mean()}')\n",
    "print(f'R^2 score on test data set = {line.score(Z_test, y_test)}')"
   ]
  },
  {
   "cell_type": "code",
   "execution_count": 21,
   "id": "88ac53ed",
   "metadata": {},
   "outputs": [],
   "source": [
    "y_pred_lr = line.predict(Z_test)"
   ]
  },
  {
   "cell_type": "code",
   "execution_count": 22,
   "id": "76cd0d6d",
   "metadata": {},
   "outputs": [
    {
     "data": {
      "text/plain": [
       "48697.52241190327"
      ]
     },
     "execution_count": 22,
     "metadata": {},
     "output_type": "execute_result"
    }
   ],
   "source": [
    "# mae\n",
    "mean_absolute_error(y_test, y_pred_lr)"
   ]
  },
  {
   "cell_type": "markdown",
   "id": "b7a5bfdc",
   "metadata": {},
   "source": [
    "The R^2 score for the training data set reduced slightly in the hundredths but improved in the hundredths for our test data set. There is nothing major in the result changes so we want to test out other models."
   ]
  },
  {
   "cell_type": "markdown",
   "id": "c54c6b48",
   "metadata": {},
   "source": [
    "## RidgeCV"
   ]
  },
  {
   "cell_type": "code",
   "execution_count": 23,
   "id": "8139b6f5",
   "metadata": {},
   "outputs": [],
   "source": [
    "# Linear least squares with L2 regularization\n",
    "from sklearn.linear_model import Ridge"
   ]
  },
  {
   "cell_type": "code",
   "execution_count": 24,
   "id": "f270755d",
   "metadata": {},
   "outputs": [
    {
     "name": "stdout",
     "output_type": "stream",
     "text": [
      "0.8327905318952884\n",
      "0.8326361235083898\n"
     ]
    }
   ],
   "source": [
    "# Instantiate.\n",
    "# alpha is the Regularization strength. we're passing 10, instead of the default 1 for stronger regularization.\n",
    "ridge_model = Ridge(alpha=10)\n",
    "\n",
    "# Fit.\n",
    "ridge_model.fit(Z_train, y_train)\n",
    "\n",
    "# Evaluate model using R2.\n",
    "print(ridge_model.score(Z_train, y_train))\n",
    "print(ridge_model.score(Z_test, y_test))"
   ]
  },
  {
   "cell_type": "code",
   "execution_count": 25,
   "id": "3d84c4ae",
   "metadata": {},
   "outputs": [],
   "source": [
    "# Ridge regression with \"built-in\" cross-validation (advancing from above approach w/o cv)\n",
    "from sklearn.linear_model import RidgeCV"
   ]
  },
  {
   "cell_type": "code",
   "execution_count": 26,
   "id": "af8d8cf1",
   "metadata": {},
   "outputs": [],
   "source": [
    "# Set up a list of ridge alphas to check.\n",
    "# np.logspace generates 100 values equally between 0 and 5,\n",
    "# then converts them to alphas between 10^0 and 10^5 (that is, in logscale).\n",
    "r_alphas = np.logspace(0, 5, 100)\n",
    "\n",
    "# Cross-validate over our list of ridge alphas.\n",
    "# alphas: pass an Array of alpha values to try. It is still the Regularization strength\n",
    "ridge_cv = RidgeCV(alphas=r_alphas, scoring='r2', cv=5).fit(Z_train, y_train)# fitting 5-fold CV"
   ]
  },
  {
   "cell_type": "code",
   "execution_count": 27,
   "id": "3bd54a40",
   "metadata": {},
   "outputs": [
    {
     "name": "stdout",
     "output_type": "stream",
     "text": [
      "0.8327905899948198\n",
      "0.8326364628281249\n"
     ]
    }
   ],
   "source": [
    "print(ridge_cv.score(Z_train, y_train))\n",
    "print(ridge_cv.score(Z_test, y_test))"
   ]
  },
  {
   "cell_type": "code",
   "execution_count": 28,
   "id": "2b8e8759",
   "metadata": {},
   "outputs": [
    {
     "data": {
      "text/plain": [
       "1.4174741629268053"
      ]
     },
     "execution_count": 28,
     "metadata": {},
     "output_type": "execute_result"
    }
   ],
   "source": [
    "# getting the optimal value of alpha from ridge cv\n",
    "ridge_cv.alpha_"
   ]
  },
  {
   "cell_type": "code",
   "execution_count": 29,
   "id": "6733910a",
   "metadata": {},
   "outputs": [],
   "source": [
    "y_pred_ridge = ridge_cv.predict(Z_test)"
   ]
  },
  {
   "cell_type": "code",
   "execution_count": 30,
   "id": "21845cb4",
   "metadata": {},
   "outputs": [
    {
     "data": {
      "text/plain": [
       "48697.54961398681"
      ]
     },
     "execution_count": 30,
     "metadata": {},
     "output_type": "execute_result"
    }
   ],
   "source": [
    "# mae\n",
    "mean_absolute_error(y_test, y_pred_ridge)"
   ]
  },
  {
   "cell_type": "markdown",
   "id": "3ada1f7e",
   "metadata": {},
   "source": [
    "## LassoCV"
   ]
  },
  {
   "cell_type": "code",
   "execution_count": 31,
   "id": "7528cf7d",
   "metadata": {},
   "outputs": [],
   "source": [
    "# Imports for Lasso\n",
    "from sklearn.linear_model import Lasso, LassoCV"
   ]
  },
  {
   "cell_type": "code",
   "execution_count": 32,
   "id": "61a5f933",
   "metadata": {},
   "outputs": [],
   "source": [
    "# Set up a list of Lasso alphas to check.\n",
    "# np.logspace generates 100 values equally between -3 and 0,\n",
    "# then converts them to alphas between 10^-3 and 1 (that is, in logscale).\n",
    "l_alphas = np.logspace(-3, 0, 100)\n",
    "\n",
    "# Cross-validate over our list of Lasso alphas.\n",
    "lasso_cv = LassoCV(alphas=l_alphas, cv=5, max_iter=50000).fit(Z_train, y_train);"
   ]
  },
  {
   "cell_type": "code",
   "execution_count": 33,
   "id": "1a3baccf",
   "metadata": {},
   "outputs": [
    {
     "name": "stdout",
     "output_type": "stream",
     "text": [
      "0.8327905704878529\n",
      "0.8326364165275894\n"
     ]
    }
   ],
   "source": [
    "print(lasso_cv.score(Z_train, y_train))\n",
    "print(lasso_cv.score(Z_test, y_test))"
   ]
  },
  {
   "cell_type": "code",
   "execution_count": 34,
   "id": "69dc6bfc",
   "metadata": {},
   "outputs": [
    {
     "data": {
      "text/plain": [
       "0.2848035868435802"
      ]
     },
     "execution_count": 34,
     "metadata": {},
     "output_type": "execute_result"
    }
   ],
   "source": [
    "# getting the optimal value of alpha from ridge cv\n",
    "lasso_cv.alpha_"
   ]
  },
  {
   "cell_type": "code",
   "execution_count": 35,
   "id": "5f93573a",
   "metadata": {},
   "outputs": [],
   "source": [
    "y_pred_lasso = lasso_cv.predict(Z_test)"
   ]
  },
  {
   "cell_type": "code",
   "execution_count": 36,
   "id": "906ec0e9",
   "metadata": {},
   "outputs": [
    {
     "data": {
      "text/plain": [
       "48697.4767434674"
      ]
     },
     "execution_count": 36,
     "metadata": {},
     "output_type": "execute_result"
    }
   ],
   "source": [
    "# mae\n",
    "mean_absolute_error(y_test, y_pred_lasso)"
   ]
  },
  {
   "cell_type": "markdown",
   "id": "a83a9d41",
   "metadata": {},
   "source": [
    "## ElasticNetCV"
   ]
  },
  {
   "cell_type": "code",
   "execution_count": 37,
   "id": "33864841",
   "metadata": {},
   "outputs": [],
   "source": [
    "from sklearn.linear_model import ElasticNet, ElasticNetCV"
   ]
  },
  {
   "cell_type": "code",
   "execution_count": 38,
   "id": "204fd129",
   "metadata": {},
   "outputs": [
    {
     "name": "stdout",
     "output_type": "stream",
     "text": [
      "0.804572008722909\n",
      "0.804270216805146\n"
     ]
    }
   ],
   "source": [
    "# Set up a list of alphas to check.\n",
    "enet_alphas = np.linspace(0.5, 1.0, 100)# Return evenly spaced numbers over a specified interval\n",
    "\n",
    "# Instantiate model.\n",
    "enet_model = ElasticNetCV(alphas=enet_alphas, cv=5)\n",
    "\n",
    "# Fit model using optimal alpha.\n",
    "enet_model = enet_model.fit(Z_train, y_train)\n",
    "\n",
    "# Generate predictions.\n",
    "enet_model_preds = enet_model.predict(Z_test)\n",
    "enet_model_preds_train = enet_model.predict(Z_train)\n",
    "\n",
    "# Evaluate model.\n",
    "print(enet_model.score(Z_train, y_train))\n",
    "print(enet_model.score(Z_test, y_test))"
   ]
  },
  {
   "cell_type": "code",
   "execution_count": 39,
   "id": "389e0b19",
   "metadata": {},
   "outputs": [
    {
     "data": {
      "text/plain": [
       "0.5"
      ]
     },
     "execution_count": 39,
     "metadata": {},
     "output_type": "execute_result"
    }
   ],
   "source": [
    "# Here is the optimal value of alpha.\n",
    "enet_model.alpha_"
   ]
  },
  {
   "cell_type": "code",
   "execution_count": 40,
   "id": "b3622ebd",
   "metadata": {},
   "outputs": [],
   "source": [
    "y_pred_enet = enet_model.predict(Z_test)"
   ]
  },
  {
   "cell_type": "code",
   "execution_count": 41,
   "id": "febd36ef",
   "metadata": {},
   "outputs": [
    {
     "data": {
      "text/plain": [
       "51495.66171082168"
      ]
     },
     "execution_count": 41,
     "metadata": {},
     "output_type": "execute_result"
    }
   ],
   "source": [
    "# mae\n",
    "mean_absolute_error(y_test, y_pred_enet)"
   ]
  },
  {
   "cell_type": "markdown",
   "id": "f1adfc5c",
   "metadata": {},
   "source": [
    "## Decision Tree Regression\n"
   ]
  },
  {
   "cell_type": "code",
   "execution_count": 42,
   "id": "23907291",
   "metadata": {},
   "outputs": [],
   "source": [
    "#instantiate\n",
    "decision_tree = DecisionTreeRegressor()"
   ]
  },
  {
   "cell_type": "code",
   "execution_count": 43,
   "id": "015a1c23",
   "metadata": {},
   "outputs": [
    {
     "data": {
      "text/plain": [
       "DecisionTreeRegressor()"
      ]
     },
     "execution_count": 43,
     "metadata": {},
     "output_type": "execute_result"
    }
   ],
   "source": [
    "decision_tree.fit(Z_train, y_train)"
   ]
  },
  {
   "cell_type": "code",
   "execution_count": 44,
   "id": "0e2a509b",
   "metadata": {},
   "outputs": [
    {
     "data": {
      "text/plain": [
       "0.9998326420923547"
      ]
     },
     "execution_count": 44,
     "metadata": {},
     "output_type": "execute_result"
    }
   ],
   "source": [
    "decision_tree.score(Z_train, y_train)"
   ]
  },
  {
   "cell_type": "code",
   "execution_count": 45,
   "id": "4c859838",
   "metadata": {},
   "outputs": [
    {
     "data": {
      "text/plain": [
       "0.9651671843656112"
      ]
     },
     "execution_count": 45,
     "metadata": {},
     "output_type": "execute_result"
    }
   ],
   "source": [
    "decision_tree.score(Z_test, y_test)"
   ]
  },
  {
   "cell_type": "code",
   "execution_count": 46,
   "id": "46a9d5f3",
   "metadata": {},
   "outputs": [],
   "source": [
    "y_pred_decisiontree = decision_tree.predict(Z_test)"
   ]
  },
  {
   "cell_type": "code",
   "execution_count": 47,
   "id": "b5380ffd",
   "metadata": {},
   "outputs": [
    {
     "data": {
      "text/plain": [
       "19789.178414025675"
      ]
     },
     "execution_count": 47,
     "metadata": {},
     "output_type": "execute_result"
    }
   ],
   "source": [
    "# mae\n",
    "mean_absolute_error(y_test, y_pred_decisiontree)"
   ]
  },
  {
   "cell_type": "markdown",
   "id": "2dbc7f15",
   "metadata": {},
   "source": [
    "## Random Forest Regressor\n"
   ]
  },
  {
   "cell_type": "code",
   "execution_count": 48,
   "id": "7ed3db9a",
   "metadata": {},
   "outputs": [],
   "source": [
    "# instantiate\n",
    "rfc = RandomForestRegressor(n_estimators=10)"
   ]
  },
  {
   "cell_type": "code",
   "execution_count": 49,
   "id": "21258574",
   "metadata": {},
   "outputs": [
    {
     "data": {
      "text/plain": [
       "RandomForestRegressor(n_estimators=10)"
      ]
     },
     "execution_count": 49,
     "metadata": {},
     "output_type": "execute_result"
    }
   ],
   "source": [
    "rfc.fit(Z_train, y_train)"
   ]
  },
  {
   "cell_type": "code",
   "execution_count": 50,
   "id": "a6de6f19",
   "metadata": {},
   "outputs": [
    {
     "data": {
      "text/plain": [
       "0.9961908390563736"
      ]
     },
     "execution_count": 50,
     "metadata": {},
     "output_type": "execute_result"
    }
   ],
   "source": [
    "rfc.score(Z_train, y_train)"
   ]
  },
  {
   "cell_type": "code",
   "execution_count": 51,
   "id": "b9d184c6",
   "metadata": {},
   "outputs": [],
   "source": [
    "y_pred_rfc = rfc.predict(Z_test)"
   ]
  },
  {
   "cell_type": "code",
   "execution_count": 52,
   "id": "3d8c841c",
   "metadata": {},
   "outputs": [
    {
     "data": {
      "text/plain": [
       "0.9796199178418629"
      ]
     },
     "execution_count": 52,
     "metadata": {},
     "output_type": "execute_result"
    }
   ],
   "source": [
    "rfc.score(Z_test, y_test)"
   ]
  },
  {
   "cell_type": "code",
   "execution_count": 53,
   "id": "3cbb04b8",
   "metadata": {},
   "outputs": [
    {
     "data": {
      "text/plain": [
       "15304.983915332288"
      ]
     },
     "execution_count": 53,
     "metadata": {},
     "output_type": "execute_result"
    }
   ],
   "source": [
    "# mae\n",
    "mean_absolute_error(y_test, y_pred_rfc)"
   ]
  },
  {
   "cell_type": "code",
   "execution_count": null,
   "id": "0066ce01",
   "metadata": {},
   "outputs": [],
   "source": []
  },
  {
   "cell_type": "code",
   "execution_count": null,
   "id": "61c81645",
   "metadata": {},
   "outputs": [],
   "source": []
  }
 ],
 "metadata": {
  "hide_input": false,
  "kernelspec": {
   "display_name": "Python 3 (ipykernel)",
   "language": "python",
   "name": "python3"
  },
  "language_info": {
   "codemirror_mode": {
    "name": "ipython",
    "version": 3
   },
   "file_extension": ".py",
   "mimetype": "text/x-python",
   "name": "python",
   "nbconvert_exporter": "python",
   "pygments_lexer": "ipython3",
   "version": "3.8.12"
  },
  "toc": {
   "base_numbering": 1,
   "nav_menu": {},
   "number_sections": true,
   "sideBar": true,
   "skip_h1_title": false,
   "title_cell": "Table of Contents",
   "title_sidebar": "Contents",
   "toc_cell": false,
   "toc_position": {
    "height": "calc(100% - 180px)",
    "left": "10px",
    "top": "150px",
    "width": "271.1875px"
   },
   "toc_section_display": true,
   "toc_window_display": true
  }
 },
 "nbformat": 4,
 "nbformat_minor": 5
}
